{
 "metadata": {
  "name": "",
  "signature": "sha256:34f64219f357dd61fd0c29192c9c4f45f9ae4913748ee40dab005fc00aa021fa"
 },
 "nbformat": 3,
 "nbformat_minor": 0,
 "worksheets": []
}