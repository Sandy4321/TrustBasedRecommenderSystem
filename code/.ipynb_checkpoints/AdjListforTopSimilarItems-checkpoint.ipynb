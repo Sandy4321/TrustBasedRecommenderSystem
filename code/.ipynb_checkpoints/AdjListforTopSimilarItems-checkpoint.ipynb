{
 "metadata": {
  "name": "",
  "signature": "sha256:1341f27588d82ea5d759f846fedaf7a6d25e097c0198bfbcb46dfc419466c6ed"
 },
 "nbformat": 3,
 "nbformat_minor": 0,
 "worksheets": [
  {
   "cells": [
    {
     "cell_type": "code",
     "collapsed": false,
     "input": [
      "%load AdjListforTopSimilarItems"
     ],
     "language": "python",
     "metadata": {},
     "outputs": [],
     "prompt_number": 6
    },
    {
     "cell_type": "code",
     "collapsed": false,
     "input": [
      "\"\"\"\n",
      "Created on Thu Nov 20 17:23:12 2014\n",
      "\n",
      "@author: Divya\n",
      "\"\"\"\n",
      "\n",
      "import numpy as np\n",
      "from copy import deepcopy\n",
      "\n",
      "data=np.genfromtxt(\"data/trimmed_items_ratings.txt\",delimiter=' ',dtype=int)\n",
      "data.shape\n",
      "#data=data[range(500),:]\n",
      "\n",
      "item_adj_list=dict.fromkeys(data[:,1],None)\n",
      "\n",
      "for i in item_adj_list.keys():\n",
      "    item_adj_list[i]=[]\n",
      "\n",
      "for i in range(data.shape[0]):\n",
      "    item_adj_list[data[i][1]].append((data[i][0],data[i][2]))\n",
      "    \n",
      "user_adj_list=dict.fromkeys(data[:,0],None)\n",
      "\n",
      "for i in user_adj_list.keys():\n",
      "    user_adj_list[i]=[]\n",
      "\n",
      "for i in range(data.shape[0]):\n",
      "    user_adj_list[data[i][0]].append((data[i][1],data[i][2]))\n",
      "    \n",
      "user_averages=dict.fromkeys(data[:,0],0)\n",
      "\n",
      "for i in user_averages.keys():\n",
      "   user_averages[i]=np.average(list(zip(*user_adj_list[i]))[1])\n",
      "\n",
      "sim15=0\n",
      "i=1\n",
      "j=5\n",
      "\n",
      "def pearson_corr(i,j):\n",
      "    if not(i in item_adj_list) or not(j in item_adj_list):  \n",
      "        return -2\n",
      "    commonusers=[]\n",
      "    userini= list(zip(*item_adj_list[i]))[0]\n",
      "    userinj= list(zip(*item_adj_list[j]))[0]\n",
      "    for l in range(len(userini)):\n",
      "        if(userini[l] in userinj):\n",
      "            commonusers.append(userini[l])\n",
      "    #print(commonusers)   \n",
      "    useriratings=[]\n",
      "    userjratings=[]\n",
      "    if (len(commonusers)<2):\n",
      "        return -2\n",
      "    for l in range(len(commonusers)):\n",
      "       useriratings.append(item_adj_list[i][userini.index(commonusers[l])][1]-user_averages[commonusers[l]])\n",
      "       userjratings.append(item_adj_list[j][userinj.index(commonusers[l])][1]-user_averages[commonusers[l]])\n",
      "    #print(useriratings)\n",
      "    #print(userjratings)\n",
      "    num=np.dot(useriratings,userjratings)\n",
      "    deno1=np.sqrt(np.dot(useriratings,useriratings))\n",
      "    deno2=np.sqrt(np.dot(userjratings,userjratings))\n",
      "    deno = deno1*deno2\n",
      "    if (deno !=0):\n",
      "        #print( num*1.0/deno)\n",
      "        return ( num*1.0/deno)\n",
      "    else:\n",
      "        return -2\n",
      "      \n",
      "simij=pearson_corr(i,j)\n",
      "print(simij)\n",
      "\n",
      "# calculate similarity list for all items\n",
      "top_similar_items =dict.fromkeys(data[:,1],None)\n",
      "\n",
      "for i in top_similar_items.keys():\n",
      "    top_similar_items[i]=[]\n",
      "\n",
      "item_keys = top_similar_items.keys()\n",
      "for i in item_keys:\n",
      "    for j in item_keys:\n",
      "        if not(i==j):\n",
      "            similarity = pearson_corr(i,j);\n",
      "            if not (similarity <0):\n",
      "                if (len(top_similar_items[i])<=30):                \n",
      "                    top_similar_items[i].append((j,similarity))\n",
      "                else:\n",
      "                    simvals=list(zip(*top_similar_items[i]))[1]\n",
      "                    minsim=min(simvals)\n",
      "                    minindex=simvals.index(minsim)\n",
      "                    if (similarity>=minsim):\n",
      "                        top_similar_items[i][minindex]=(j,similarity)\n",
      "                        \n",
      "                    \n",
      "                 \n"
     ],
     "language": "python",
     "metadata": {},
     "outputs": [
      {
       "output_type": "stream",
       "stream": "stdout",
       "text": [
        "-0.585490553844\n"
       ]
      }
     ],
     "prompt_number": 7
    },
    {
     "cell_type": "code",
     "collapsed": false,
     "input": [
      "top_similar_items[1]\n"
     ],
     "language": "python",
     "metadata": {},
     "outputs": [
      {
       "metadata": {},
       "output_type": "pyout",
       "prompt_number": 8,
       "text": [
        "[(69, 0.58558354455914685),\n",
        " (77, 0.77841303947532936),\n",
        " (78, 0.047565149415449245),\n",
        " (79, 0.19611613513818418)]"
       ]
      }
     ],
     "prompt_number": 8
    },
    {
     "cell_type": "code",
     "collapsed": false,
     "input": [],
     "language": "python",
     "metadata": {},
     "outputs": []
    }
   ],
   "metadata": {}
  }
 ]
}