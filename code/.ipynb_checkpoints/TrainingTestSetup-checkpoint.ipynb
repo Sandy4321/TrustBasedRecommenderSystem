{
 "metadata": {
  "name": "",
  "signature": "sha256:f46be6656e9fc86b6f85a57608a37e88b3745aefe5ee28a38920ec1f8038e9b7"
 },
 "nbformat": 3,
 "nbformat_minor": 0,
 "worksheets": [
  {
   "cells": [
    {
     "cell_type": "code",
     "collapsed": false,
     "input": [
      "from ReservoirSample import get_random\n",
      "import numpy as np\n"
     ],
     "language": "python",
     "metadata": {},
     "outputs": [],
     "prompt_number": 1
    },
    {
     "cell_type": "code",
     "collapsed": false,
     "input": [
      "# Sample the user ratings from the Input files\n",
      "data=np.genfromtxt(\"data/trimmed_items_ratings.txt\",delimiter=' ',dtype=int)\n"
     ],
     "language": "python",
     "metadata": {},
     "outputs": [],
     "prompt_number": 8
    },
    {
     "cell_type": "code",
     "collapsed": false,
     "input": [
      "datasize=data.shape[0]\n",
      "testsize=int(.2*datasize)\n",
      "trainsize=datasize-testsize\n",
      "\n",
      "#generating training & test indices using reservoir sampling\n",
      "sample_user_item_training =np.zeros((trainsize,3))\n",
      "sampled_user_item_data = np.array(get_random(datasize,trainsize))\n",
      "\n",
      "ind=np.zeros(datasize)\n",
      "ind[sampled_user_item_data]=1\n",
      "sample_user_item_test =np.zeros((testsize,3))\n",
      "sample_user_item_training=data[ind==1]\n",
      "sample_user_item_test=data[ind==0]"
     ],
     "language": "python",
     "metadata": {},
     "outputs": [
      {
       "output_type": "stream",
       "stream": "stdout",
       "text": [
        "[1 1 5]\n",
        "[169   1   4]\n"
       ]
      }
     ],
     "prompt_number": 14
    },
    {
     "cell_type": "code",
     "collapsed": false,
     "input": [],
     "language": "python",
     "metadata": {},
     "outputs": [
      {
       "output_type": "stream",
       "stream": "stdout",
       "text": [
        "[[  1   1   5]\n",
        " [143   1   3]\n",
        " [251   1   5]\n",
        " [285   1   5]\n",
        " [299   1   3]]\n",
        "[[ 169    1    4]\n",
        " [1756    1    5]\n",
        " [ 424   18    2]\n",
        " [ 140   36    4]\n",
        " [ 329   36    3]]\n"
       ]
      }
     ],
     "prompt_number": 15
    },
    {
     "cell_type": "code",
     "collapsed": false,
     "input": [
      "# writing the trimmed training data \n",
      "open('trimmed_training.txt', 'w').close()\n",
      "for i in range(trainsize):\n",
      "    p = str(sample_user_item_training[i][0]) +\" \"+ str(sample_user_item_training[i][1])+\" \"+str(sample_user_item_training[i][2])+\"\\n\"\n",
      "    with open('trimmed_training.txt', 'a') as f:\n",
      "        f.write(p)\n"
     ],
     "language": "python",
     "metadata": {},
     "outputs": [],
     "prompt_number": 23
    },
    {
     "cell_type": "code",
     "collapsed": false,
     "input": [],
     "language": "python",
     "metadata": {},
     "outputs": [
      {
       "output_type": "stream",
       "stream": "stdout",
       "text": [
        "143\n"
       ]
      }
     ],
     "prompt_number": 17
    },
    {
     "cell_type": "code",
     "collapsed": false,
     "input": [
      "# writing the trimmed test data \n",
      "open('trimmed_test.txt', 'w').close()\n",
      "for i in range(testsize):\n",
      "    p = str(sample_user_item_test[i][0]) +\" \"+ str(sample_user_item_test[i][1])+\" \"+str(sample_user_item_test[i][2])+\"\\n\"\n",
      "    with open('trimmed_test.txt', 'a') as f:\n",
      "        f.write(p)\n"
     ],
     "language": "python",
     "metadata": {},
     "outputs": [],
     "prompt_number": 24
    },
    {
     "cell_type": "code",
     "collapsed": false,
     "input": [],
     "language": "python",
     "metadata": {},
     "outputs": []
    }
   ],
   "metadata": {}
  }
 ]
}